{
 "cells": [
  {
   "cell_type": "markdown",
   "metadata": {},
   "source": [
    "# Objective\n",
    "* To classify MNIST digits using naive Bayes classifier in scikit-learn\n",
    "\n",
    "Scikit-learn has a nice uitility function to download datasets from mldata.org repo. We will use it to download MNIST dataset"
   ]
  },
  {
   "cell_type": "code",
   "execution_count": 1,
   "metadata": {
    "collapsed": true
   },
   "outputs": [],
   "source": [
    "from sklearn.datasets import fetch_mldata\n",
    "mnist = fetch_mldata(\"MNIST original\")"
   ]
  },
  {
   "cell_type": "markdown",
   "metadata": {},
   "source": [
    "**fetch_mldata** function returns a dictionary, with keys \"COL_NAMES\", \"DESCR\", \"data\" and \"target\""
   ]
  },
  {
   "cell_type": "code",
   "execution_count": 2,
   "metadata": {
    "collapsed": false
   },
   "outputs": [
    {
     "name": "stdout",
     "output_type": "stream",
     "text": [
      "Column names =  ['label', 'data']\n",
      "DESC =  mldata.org dataset: mnist-original\n",
      "Shape of data =  (70000, 784)\n",
      "Shape of target =  (70000,)\n"
     ]
    }
   ],
   "source": [
    "print(\"Column names = \", mnist.COL_NAMES)\n",
    "print(\"DESC = \", mnist.DESCR)\n",
    "print(\"Shape of data = \", mnist[\"data\"].shape)\n",
    "print(\"Shape of target = \", mnist[\"target\"].shape)"
   ]
  },
  {
   "cell_type": "markdown",
   "metadata": {},
   "source": [
    "We see that we have 70,000 samples of data. Each sample is a image of size 28*28 pixels which is flattened to a 1D array of size 784."
   ]
  },
  {
   "cell_type": "markdown",
   "metadata": {},
   "source": [
    "## Plot some sample data"
   ]
  },
  {
   "cell_type": "code",
   "execution_count": 3,
   "metadata": {
    "collapsed": false
   },
   "outputs": [],
   "source": [
    "%matplotlib inline\n",
    "import numpy as np\n",
    "import matplotlib.pyplot as plt\n",
    "from matplotlib import style\n",
    "style.use(\"ggplot\")"
   ]
  },
  {
   "cell_type": "code",
   "execution_count": 4,
   "metadata": {
    "collapsed": false
   },
   "outputs": [
    {
     "data": {
      "image/png": "[encoded data removed]",
      "text/plain": [
       "<matplotlib.figure.Figure at 0x2c28fc9a908>"
      ]
     },
     "metadata": {},
     "output_type": "display_data"
    }
   ],
   "source": [
    "def plot_images(images, labels):\n",
    "    n_cols = min(5, len(images))\n",
    "    n_rows = len(images) // n_cols\n",
    "    fig = plt.figure(figsize=(8, 8))\n",
    "\n",
    "    for i in range(n_rows * n_cols):\n",
    "        sp = fig.add_subplot(n_rows, n_cols, i+1)\n",
    "        plt.axis(\"off\")\n",
    "        plt.imshow(images[i], cmap=plt.cm.gray)\n",
    "        sp.set_title(labels[i])\n",
    "    plt.show()\n",
    "\n",
    "# get random 20 indices\n",
    "p = np.random.permutation(len(mnist.data))\n",
    "p = p[:20]\n",
    "\n",
    "# convert the data into 2D array before passing it to the plotting function\n",
    "plot_images(mnist.data[p].reshape(-1, 28, 28), mnist.target[p])"
   ]
  },
  {
   "cell_type": "markdown",
   "metadata": {},
   "source": [
    "# Prepare dataset"
   ]
  },
  {
   "cell_type": "markdown",
   "metadata": {},
   "source": [
    "Each sample in data in a vector of size 784. The values of the vector range from 0 to 255. We need to normalize the values so that it ranges from 0 to 1. Normalization is done so that the learning algorithm converges faster."
   ]
  },
  {
   "cell_type": "code",
   "execution_count": 5,
   "metadata": {
    "collapsed": false
   },
   "outputs": [
    {
     "name": "stdout",
     "output_type": "stream",
     "text": [
      "Minimum and maximun value of pixels in first sample before normalization =  0 255\n",
      "Minimum and maximun value of pixels in first sample after normalization =  0.0 1.0\n"
     ]
    }
   ],
   "source": [
    "X = mnist.data\n",
    "print(\"Minimum and maximun value of pixels in first sample before normalization = \", np.min(X[0]), np.max(X[0]))\n",
    "\n",
    "X = X / 255.0\n",
    "print(\"Minimum and maximun value of pixels in first sample after normalization = \", np.min(X[0]), np.max(X[0]))"
   ]
  },
  {
   "cell_type": "code",
   "execution_count": 6,
   "metadata": {
    "collapsed": false
   },
   "outputs": [],
   "source": [
    "Y = mnist.target"
   ]
  },
  {
   "cell_type": "code",
   "execution_count": 7,
   "metadata": {
    "collapsed": false
   },
   "outputs": [
    {
     "name": "stdout",
     "output_type": "stream",
     "text": [
      "Total training samples =  49000\n",
      "Total testing samples =  21000\n"
     ]
    }
   ],
   "source": [
    "from sklearn.model_selection import train_test_split\n",
    "X_train, X_test, Y_train, Y_test = train_test_split(X, Y, test_size=0.3)\n",
    "\n",
    "print(\"Total training samples = \", X_train.shape[0])\n",
    "print(\"Total testing samples = \", X_test.shape[0])"
   ]
  },
  {
   "cell_type": "markdown",
   "metadata": {},
   "source": [
    "# Model training and validation"
   ]
  },
  {
   "cell_type": "markdown",
   "metadata": {},
   "source": [
    "We will use a simple Multinomial model. Even the default setting will gives us 82% accuracy. The precision and recall are also fairly good.\n",
    "\n",
    "Deep neural nets can achieve more than 99% accuracy for this dataset but for a simple model like this that trains under a second, the score is not too bad."
   ]
  },
  {
   "cell_type": "code",
   "execution_count": 8,
   "metadata": {
    "collapsed": false
   },
   "outputs": [
    {
     "data": {
      "text/plain": [
       "MultinomialNB(alpha=1.0, class_prior=None, fit_prior=True)"
      ]
     },
     "execution_count": 8,
     "metadata": {},
     "output_type": "execute_result"
    }
   ],
   "source": [
    "from sklearn.naive_bayes import MultinomialNB\n",
    "\n",
    "classifier = MultinomialNB()\n",
    "classifier.fit(X_train, Y_train)"
   ]
  },
  {
   "cell_type": "code",
   "execution_count": 9,
   "metadata": {
    "collapsed": false
   },
   "outputs": [
    {
     "name": "stdout",
     "output_type": "stream",
     "text": [
      "Accuracy of model = 82.404762%\n",
      "             precision    recall  f1-score   support\n",
      "\n",
      "        0.0       0.92      0.91      0.92      2067\n",
      "        1.0       0.88      0.93      0.91      2314\n",
      "        2.0       0.87      0.82      0.85      2115\n",
      "        3.0       0.79      0.81      0.80      2178\n",
      "        4.0       0.82      0.74      0.78      2024\n",
      "        5.0       0.86      0.65      0.74      1889\n",
      "        6.0       0.88      0.91      0.89      2022\n",
      "        7.0       0.94      0.83      0.88      2212\n",
      "        8.0       0.65      0.78      0.71      2068\n",
      "        9.0       0.70      0.83      0.76      2111\n",
      "\n",
      "avg / total       0.83      0.82      0.82     21000\n",
      "\n"
     ]
    }
   ],
   "source": [
    "from sklearn.metrics import accuracy_score, classification_report\n",
    "predicted = classifier.predict(X_test)\n",
    "\n",
    "print(\"Accuracy of model = %2f%%\" % (accuracy_score(Y_test, predicted)*100))\n",
    "print(classification_report(Y_test, predicted))"
   ]
  },
  {
   "cell_type": "code",
   "execution_count": 11,
   "metadata": {
    "collapsed": false
   },
   "outputs": [
    {
     "data": {
      "image/png": "[encoded data removed]",
      "text/plain": [
       "<matplotlib.figure.Figure at 0x2c2c5b9e0f0>"
      ]
     },
     "metadata": {},
     "output_type": "display_data"
    }
   ],
   "source": [
    "p = np.random.permutation(len(X_test))\n",
    "p = p[:20]\n",
    "plot_images(X_test[p].reshape(-1, 28, 28), predicted[p])\n",
    "\n",
    "# print(\"Prediction\")\n",
    "# num_visualize = 10\n",
    "# images_and_predictions = list(zip(X_test, predicted))\n",
    "# for i, (im, prediction) in enumerate(images_and_predictions[:num_visualize]):\n",
    "#     plt.subplot(1, num_visualize, i + 1)\n",
    "#     plt.axis(\"off\")\n",
    "#     plt.imshow(im.reshape(28, 28), cmap=plt.cm.gray, interpolation=\"nearest\")\n",
    "#     plt.title(\"%i\" % prediction)"
   ]
  }
 ],
 "metadata": {
  "kernelspec": {
   "display_name": "Python 3",
   "language": "python",
   "name": "python3"
  },
  "language_info": {
   "codemirror_mode": {
    "name": "ipython",
    "version": 3
   },
   "file_extension": ".py",
   "mimetype": "text/x-python",
   "name": "python",
   "nbconvert_exporter": "python",
   "pygments_lexer": "ipython3",
   "version": "3.5.2"
  }
 },
 "nbformat": 4,
 "nbformat_minor": 2
}
