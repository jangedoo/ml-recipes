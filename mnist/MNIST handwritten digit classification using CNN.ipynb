{
 "cells": [
  {
   "cell_type": "code",
   "execution_count": 1,
   "metadata": {
    "collapsed": false
   },
   "outputs": [
    {
     "name": "stderr",
     "output_type": "stream",
     "text": [
      "Using TensorFlow backend.\n"
     ]
    },
    {
     "data": {
      "text/plain": [
       "'2.0.6'"
      ]
     },
     "execution_count": 1,
     "metadata": {},
     "output_type": "execute_result"
    }
   ],
   "source": [
    "import keras\n",
    "import matplotlib.pyplot as plt\n",
    "import numpy as np\n",
    "\n",
    "%matplotlib inline\n",
    "keras.__version__"
   ]
  },
  {
   "cell_type": "code",
   "execution_count": 24,
   "metadata": {
    "collapsed": true
   },
   "outputs": [],
   "source": [
    "def plot_images(images, labels):\n",
    "    n_cols = min(5, len(images))\n",
    "    n_rows = len(images) // n_cols\n",
    "    fig = plt.figure(figsize=(8, 8))\n",
    "\n",
    "    for i in range(n_rows * n_cols):\n",
    "        sp = fig.add_subplot(n_rows, n_cols, i+1)\n",
    "        plt.axis(\"off\")\n",
    "        plt.imshow(images[i], cmap=plt.cm.gray)\n",
    "        sp.set_title(labels[i])\n",
    "    plt.show()"
   ]
  },
  {
   "cell_type": "code",
   "execution_count": 13,
   "metadata": {
    "collapsed": false
   },
   "outputs": [],
   "source": [
    "from keras.datasets import mnist\n",
    "(X_train, y_train), (X_test, y_test) = mnist.load_data()"
   ]
  },
  {
   "cell_type": "code",
   "execution_count": 27,
   "metadata": {
    "collapsed": false
   },
   "outputs": [
    {
     "data": {
      "text/plain": [
       "((60000, 28, 28), (60000,), (10000, 28, 28), (10000,))"
      ]
     },
     "execution_count": 27,
     "metadata": {},
     "output_type": "execute_result"
    }
   ],
   "source": [
    "X_train.shape, y_train.shape, X_test.shape, y_test.shape"
   ]
  },
  {
   "cell_type": "code",
   "execution_count": 28,
   "metadata": {
    "collapsed": false
   },
   "outputs": [
    {
     "data": {
      "image/png": "[encoded data removed]",
      "text/plain": [
       "<matplotlib.figure.Figure at 0x259d016c898>"
      ]
     },
     "metadata": {},
     "output_type": "display_data"
    }
   ],
   "source": [
    "# lets plot random 20 images\n",
    "p = np.random.permutation(len(X_train))\n",
    "p = p[:20]\n",
    "plot_images(X_train[p], y_train[p])"
   ]
  },
  {
   "cell_type": "code",
   "execution_count": 33,
   "metadata": {
    "collapsed": true
   },
   "outputs": [],
   "source": [
    "X_train = X_train.reshape(-1, 28, 28, 1)\n",
    "X_test = X_test.reshape(-1, 28, 28, 1)"
   ]
  },
  {
   "cell_type": "code",
   "execution_count": 36,
   "metadata": {
    "collapsed": true
   },
   "outputs": [],
   "source": [
    "from keras.utils import to_categorical\n",
    "y_train = to_categorical(y_train, num_classes=10)\n",
    "y_test = to_categorical(y_test, num_classes=10)"
   ]
  },
  {
   "cell_type": "code",
   "execution_count": 73,
   "metadata": {
    "collapsed": false
   },
   "outputs": [
    {
     "name": "stdout",
     "output_type": "stream",
     "text": [
      "_________________________________________________________________\n",
      "Layer (type)                 Output Shape              Param #   \n",
      "=================================================================\n",
      "input_11 (InputLayer)        (None, 28, 28, 1)         0         \n",
      "_________________________________________________________________\n",
      "conv2d_22 (Conv2D)           (None, 26, 26, 32)        320       \n",
      "_________________________________________________________________\n",
      "activation_40 (Activation)   (None, 26, 26, 32)        0         \n",
      "_________________________________________________________________\n",
      "batch_normalization_5 (Batch (None, 26, 26, 32)        128       \n",
      "_________________________________________________________________\n",
      "max_pooling2d_22 (MaxPooling (None, 13, 13, 32)        0         \n",
      "_________________________________________________________________\n",
      "conv2d_23 (Conv2D)           (None, 11, 11, 64)        18496     \n",
      "_________________________________________________________________\n",
      "activation_41 (Activation)   (None, 11, 11, 64)        0         \n",
      "_________________________________________________________________\n",
      "batch_normalization_6 (Batch (None, 11, 11, 64)        256       \n",
      "_________________________________________________________________\n",
      "max_pooling2d_23 (MaxPooling (None, 5, 5, 64)          0         \n",
      "_________________________________________________________________\n",
      "conv2d_24 (Conv2D)           (None, 3, 3, 64)          36928     \n",
      "_________________________________________________________________\n",
      "activation_42 (Activation)   (None, 3, 3, 64)          0         \n",
      "_________________________________________________________________\n",
      "batch_normalization_7 (Batch (None, 3, 3, 64)          256       \n",
      "_________________________________________________________________\n",
      "max_pooling2d_24 (MaxPooling (None, 1, 1, 64)          0         \n",
      "_________________________________________________________________\n",
      "flatten_11 (Flatten)         (None, 64)                0         \n",
      "_________________________________________________________________\n",
      "dense_19 (Dense)             (None, 60)                3900      \n",
      "_________________________________________________________________\n",
      "activation_43 (Activation)   (None, 60)                0         \n",
      "_________________________________________________________________\n",
      "batch_normalization_8 (Batch (None, 60)                240       \n",
      "_________________________________________________________________\n",
      "dense_20 (Dense)             (None, 10)                610       \n",
      "_________________________________________________________________\n",
      "activation_44 (Activation)   (None, 10)                0         \n",
      "=================================================================\n",
      "Total params: 61,134\n",
      "Trainable params: 60,694\n",
      "Non-trainable params: 440\n",
      "_________________________________________________________________\n"
     ]
    }
   ],
   "source": [
    "from keras.layers import Input, Dense, Conv2D, Activation, MaxPool2D, Flatten, BatchNormalization\n",
    "from keras.models import Model\n",
    "\n",
    "img_input = Input(shape=(28, 28, 1))\n",
    "_ = Conv2D(filters=32, kernel_size=(3,3))(img_input)\n",
    "_ = Activation(\"relu\")(_)\n",
    "_ = BatchNormalization()(_)\n",
    "_ = MaxPool2D()(_)\n",
    "\n",
    "_ = Conv2D(filters=64, kernel_size=3)(_)\n",
    "_ = Activation(\"relu\")(_)\n",
    "_ = BatchNormalization()(_)\n",
    "_ = MaxPool2D()(_)\n",
    "\n",
    "_ = Conv2D(filters=64, kernel_size=3)(_)\n",
    "_ = Activation(\"relu\")(_)\n",
    "_ = BatchNormalization()(_)\n",
    "_ = MaxPool2D()(_)\n",
    "\n",
    "_ = Flatten()(_)\n",
    "_ = Dense(60)(_)\n",
    "_ = Activation(\"relu\")(_)\n",
    "_ = BatchNormalization()(_)\n",
    "_ = Dense(10)(_)\n",
    "_ = Activation(\"softmax\")(_)\n",
    "\n",
    "model = Model(inputs=img_input, outputs=_)\n",
    "model.compile(optimizer=\"adam\", loss=\"categorical_crossentropy\", metrics=[\"accuracy\"])\n",
    "model.summary()"
   ]
  },
  {
   "cell_type": "code",
   "execution_count": 74,
   "metadata": {
    "collapsed": false
   },
   "outputs": [
    {
     "name": "stdout",
     "output_type": "stream",
     "text": [
      "Epoch 1/6\n",
      "60000/60000 [==============================] - 14s - loss: 0.2469 - acc: 0.9303    \n",
      "Epoch 2/6\n",
      "60000/60000 [==============================] - 12s - loss: 0.0623 - acc: 0.9823    \n",
      "Epoch 3/6\n",
      "60000/60000 [==============================] - 12s - loss: 0.0405 - acc: 0.9883    \n",
      "Epoch 4/6\n",
      "60000/60000 [==============================] - 12s - loss: 0.0295 - acc: 0.9917    \n",
      "Epoch 5/6\n",
      "60000/60000 [==============================] - 12s - loss: 0.0219 - acc: 0.9933    \n",
      "Epoch 6/6\n",
      "60000/60000 [==============================] - 12s - loss: 0.0165 - acc: 0.9952    \n"
     ]
    },
    {
     "data": {
      "text/plain": [
       "<keras.callbacks.History at 0x25a29ed3da0>"
      ]
     },
     "execution_count": 74,
     "metadata": {},
     "output_type": "execute_result"
    }
   ],
   "source": [
    "model.fit(x=X_train, y=y_train, batch_size=256, epochs=6)"
   ]
  },
  {
   "cell_type": "code",
   "execution_count": null,
   "metadata": {
    "collapsed": true
   },
   "outputs": [],
   "source": []
  },
  {
   "cell_type": "code",
   "execution_count": 75,
   "metadata": {
    "collapsed": false
   },
   "outputs": [
    {
     "name": "stdout",
     "output_type": "stream",
     "text": [
      " 9472/10000 [===========================>..] - ETA: 0s"
     ]
    },
    {
     "data": {
      "text/plain": [
       "[0.052082487508561461, 0.9839]"
      ]
     },
     "execution_count": 75,
     "metadata": {},
     "output_type": "execute_result"
    }
   ],
   "source": [
    "model.evaluate(X_test, y_test, batch_size=256)"
   ]
  },
  {
   "cell_type": "code",
   "execution_count": null,
   "metadata": {
    "collapsed": true
   },
   "outputs": [],
   "source": []
  },
  {
   "cell_type": "code",
   "execution_count": null,
   "metadata": {
    "collapsed": true
   },
   "outputs": [],
   "source": []
  }
 ],
 "metadata": {
  "kernelspec": {
   "display_name": "Python 3",
   "language": "python",
   "name": "python3"
  },
  "language_info": {
   "codemirror_mode": {
    "name": "ipython",
    "version": 3
   },
   "file_extension": ".py",
   "mimetype": "text/x-python",
   "name": "python",
   "nbconvert_exporter": "python",
   "pygments_lexer": "ipython3",
   "version": "3.5.2"
  }
 },
 "nbformat": 4,
 "nbformat_minor": 2
}
